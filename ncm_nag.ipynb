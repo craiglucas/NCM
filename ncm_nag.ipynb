{
 "cells": [
  {
   "cell_type": "markdown",
   "metadata": {},
   "source": [
    "<img src=\"topper.png\" width=75%>"
   ]
  },
  {
   "cell_type": "markdown",
   "metadata": {},
   "source": [
    "## The Numerical Algorithms Group\n",
    "\n",
    "* 1970 – “Nottingham Algorithms Group” - University project.\n",
    "\n",
    "\n",
    "* 2016 – Mark 26 of the NAG Libraries\n",
    "\n",
    "\n",
    "* As well as Numerical libraries, we also provide\n",
    "   * Fortran compiler\n",
    "   * HPC software engineering services\n",
    "   * Consultancy work for bespoke application development\n",
    "\n",
    "\n",
    "* Customers from\n",
    "   * Finance\n",
    "   * Oil and Gas\n",
    "   * Major Research organizations, etc.\n",
    "\n",
    "<img src=\"footer.png\">"
   ]
  },
  {
   "cell_type": "markdown",
   "metadata": {},
   "source": [
    "## Why Libraries are Important\n",
    "\n",
    "* NAG frees the user from worrying about numerical computation which is difficult to do accurately\n",
    "\n",
    "\n",
    "* Problems of \n",
    "   * Stability\n",
    "   * Underflow\n",
    "   * Overflow\n",
    "   * Condition\n",
    "   \n",
    "   \n",
    "* Importance of testing and error analysis & bounds\n",
    "\n",
    "\n",
    "* Performance vital too, but after accuracy.\n",
    "\n",
    "   \n",
    "   \n",
    "<img src=\"footer.png\">"
   ]
  },
  {
   "cell_type": "markdown",
   "metadata": {},
   "source": [
    "## Products and Environments\n",
    "\n",
    "\n",
    "* NAG Libraries can be used with: \n",
    "   * Fortran\n",
    "   * C/C++\n",
    "   * C#/.NET\n",
    "   * Java \n",
    "   * **Python**\n",
    "   * Matlab\n",
    "   * Excel\n",
    "   * R\n",
    "   * SAS\n",
    "   * Maple \n",
    "   * ... etc.\n",
    "   \n",
    "   \n",
    "<img src=\"footer.png\">"
   ]
  },
  {
   "cell_type": "markdown",
   "metadata": {},
   "source": [
    "## NAG Library Contents\n",
    "\n",
    "* Over 1700 routines, fully documented with examples\n",
    "* Advice on choosing the right algorithm / routine\n",
    "\n",
    " <table style=\"width:100%\">\n",
    "  <tr>\n",
    "    <td><ul>\n",
    "    <li>Root Finding \n",
    "    <li>Summation of Series \n",
    "    <li>Quadrature\n",
    "    <li>Ordinary Differential Equations\n",
    "    <li>Partial Differential Equations \n",
    "    <li>Numerical Differentiation \n",
    "    <li>Integral Equations \n",
    "    <li>Mesh Generation \n",
    "    <li>Interpolation \n",
    "    <li>Curve and Surface Fitting \n",
    "    <li>Optimization\n",
    "    <li>Approximations of Special Functions\n",
    "    <li>Option Pricing\n",
    "    </ul>\n",
    "    </td>\n",
    " \n",
    "    <td><ul>\n",
    "    <li>Dense Linear Algebra\n",
    "    <li>Sparse Linear Algebra\n",
    "    <li>Correlation & Regression Analysis\n",
    "    <li>Multivariate Methods\n",
    "    <li>Analysis of Variance\n",
    "    <li>Random Number Generators\n",
    "    <li>Univariate Estimation \n",
    "    <li>Nonparametric Statistics  \n",
    "    <li>Smoothing in Statistics  \n",
    "    <li>Contingency Table Analysis  \n",
    "    <li>Survival Analysis \n",
    "    <li>Time Series Analysis \n",
    "    <li>Operations Research \n",
    "    </ul>\n",
    "    </td>\n",
    "  </tr>\n",
    "</table> \n",
    "\n",
    "<img src=\"footer.png\">\n",
    "\n"
   ]
  },
  {
   "cell_type": "markdown",
   "metadata": {
    "nbpresent": {
     "id": "94a8239a-e41d-4c24-ae8d-ea3e2132a391"
    }
   },
   "source": [
    "## Correlation Matrices\n",
    "\n",
    "* An $n$-by-$n$ matrix is a Correlation Matrix if\n",
    "  * it is symmetric\n",
    "  * has ones on the diagonal \n",
    "  * its eigenvalues are nonnegative (positive semidefinite)           \n",
    "  \n",
    "  \n",
    "  $$ \\Large Ax = \\lambda x, \\quad x \\neq 0$$\n",
    "\n",
    "\n",
    "* The element in the $i$th row and $j$th column is the correlation between the $i$th and $j$th variables. Stocks, for example.\n",
    "\n",
    "\n",
    "\n",
    "\n",
    "<img src=\"footer.png\" width=100%>\n",
    "\n",
    "<!--\n",
    "<img src=\"nag_trans.png\" width=70 align=\"right\"> <font face=\"Helvetica\" color=rgb(22,42,99)><b>www.nag.com</b></font>\n",
    "-->\n"
   ]
  },
  {
   "cell_type": "markdown",
   "metadata": {
    "nbpresent": {
     "id": "5503d511-81d8-4356-b142-3c0b65f21299"
    }
   },
   "source": [
    "## Empirical Correlation Matrices \n",
    "\n",
    "* Empirical correlation matrices are often **not mathematically true** due to inconsistent or missing data.\n",
    "\n",
    "\n",
    "* Thus we are required to find a true correlation matrix, where our input, $G$, is an approximate correlation matrix.\n",
    "\n",
    "\n",
    "* In particular we seek the *nearest* correlation matrix, in most cases.\n",
    "\n",
    "<img src=\"footer.png\" width=100%>"
   ]
  },
  {
   "cell_type": "markdown",
   "metadata": {
    "nbpresent": {
     "id": "a5fb9867-8630-4b22-aff5-8fa6d9d634ea"
    }
   },
   "source": [
    "## Computing Correlation Matrices\n",
    "\n",
    "* The vector *p<sub>i</sub>*, the $i$th column of a matrix, $P$,  holds the *m* observations of the *i*th variable, of which there are *n*. *<span style=\"text-decoration: overline\">p</span><sub>i</sub>* is the sample mean. \n",
    "\n",
    "\n",
    "$$ \\large s_{ij}=\\frac{1}{m-1}(p_i - \\bar{p}_i )^T(p_j - \\bar{p}_j) $$\n",
    "\n",
    "* *S* is a covariance matrix, with *s<sub>ij</sub>* the covariance   between variables *i* and *j*:\n",
    "\n",
    "\n",
    "* R is a correlation matrix, given by: \n",
    "\n",
    " \n",
    "\n",
    "\\begin{eqnarray*} \\large D_S^{1/2} & = & \\large \\textrm{ diag}(s_{11}^{-1/2},s_{22}^{-1/2}, \\ldots, s_{nn}^{-1/2}) \\nonumber \\\\ &  & \\nonumber \\\\\n",
    "\\large R & = & \\large D_S^{1/2} S D_S^{1/2} \\nonumber\n",
    "\\end{eqnarray*}\n",
    "\n",
    "<img src=\"footer.png\" width=100%>"
   ]
  },
  {
   "cell_type": "markdown",
   "metadata": {
    "nbpresent": {
     "id": "3f5c8aae-0101-4786-a2e0-1d89997a2f8e"
    }
   },
   "source": [
    "## Approximate Correlation Matrices\n",
    "\n",
    "* Now, what if we don't have all observations for each variable?\n",
    "\n",
    "\n",
    "* We compute each covariance with observations that are available for *both* the *i*th and *j*th variable.\n",
    "\n",
    "\n",
    "* For example NAG routine **g02bb**.\n",
    "\n",
    "\n",
    "* Compute correlation matrix as before.\n",
    "\n",
    "<img src=\"footer.png\" width=100%>\n"
   ]
  },
  {
   "cell_type": "markdown",
   "metadata": {
    "nbpresent": {
     "id": "d1c9ef9b-e547-4d3b-a3a4-25ca827b9e65"
    }
   },
   "source": [
    "## An Example\n",
    "\n",
    "* Prices for 8 stocks on the first working day of 10 consecutive months.\n",
    "\n",
    "\n",
    "|    | Stock A  | Stock B   | Stock C  | Stock D   | Stock E | Stock F  | Stock G   | Stock H\n",
    "| ---     | ---     | ---     | ---     | ---     | ---     | ---     | ---     | ---     |\n",
    "| **Month 1**  | 59.875 | 42.734 | 47.938 | 60.359 | 54.016 | 69.625 | 61.500 | 62.125 |\n",
    "| **Month 2**  | 53.188 | 49.000 | 39.500 |        | 34.750 |        | 83.000 | 44.500 |\n",
    "| **Month 3**  | 55.750 | 50.000 | 38.938 |        | 30.188 |        | 70.875 | 29.938 |\n",
    "| **Month 4**  | 65.500 | 51.063 | 45.563 | 69.313 | 48.250 | 62.375 | 85.250 |        |\n",
    "| **Month 5**  | 69.938 | 47.000 | 52.313 | 71.016 |        | 59.359 | 61.188 | 48.219 |\n",
    "| **Month 6**  | 61.500 | 44.188 | 53.438 | 57.000 | 35.313 | 55.813 | 51.500 | 62.188 |\n",
    "| **Month 7**  | 59.230 | 48.210 | 62.190 | 61.390 | 54.310 | 70.170 | 61.750 | 91.080 |\n",
    "| **Month 8**  | 61.230 | 48.700 | 60.300 | 68.580 | 61.250 | 70.340 |        |        |\n",
    "| **Month 9**  | 52.900 | 52.690 | 54.230 |        | 68.170 | 70.600 | 57.870 | 88.640 |\n",
    "| **Month 10** | 57.370 | 59.040 | 59.870 | 62.090 | 61.620 | 66.470 | 65.370 | 85.840 |\n",
    "\n",
    "<!--<img src=\"pic05.png\" width=\"600\">\n",
    "-->\n"
   ]
  },
  {
   "cell_type": "markdown",
   "metadata": {
    "nbpresent": {
     "id": "50dccd74-72ea-465f-988d-55c9d115dc20"
    }
   },
   "source": [
    "\n",
    "* So our $P = \\left[p_1, p_2, \\ldots, p_n \\right]$ is:\n",
    "\n",
    "\n",
    "\n",
    "$$ \n",
    "P=\\left[\\begin{array}{rrrrrrrr}\n",
    "59.875 &  42.734 & {\\color{blue}{47.938}} & {\\color{blue}{60.359}} & 54.016 & 69.625 & 61.500 &\n",
    "62.125 \\\\\n",
    "   53.188 & 49.000 & 39.500 &  \\textrm{NaN} &  34.750 &  \\textrm{NaN} &  83.000 &\n",
    "   44.500\\\\\n",
    "   55.750 & 50.000 & 38.938  & \\textrm{NaN}  & 30.188  & \\textrm{NaN} &  70.875 &\n",
    "   29.938\\\\\n",
    "   65.500 & 51.063 & {\\color{blue}{45.563}} & {\\color{blue}{69.313}} & 48.250 & 62.375 & 85.250  &\n",
    "   \\textrm{NaN}\\\\\n",
    "   69.938 & 47.000 & {\\color{blue}{52.313}} & {\\color{blue}{71.016}}  & \\textrm{NaN}  & 59.359 & 61.188 &\n",
    "   48.219\\\\\n",
    "   61.500 & 44.188 &  {\\color{blue}{53.438}} &  {\\color{blue}{57.000}} & 35.313 & 55.813 & 51.500 &\n",
    "   62.188\\\\\n",
    "   59.230 & 48.210 & {\\color{blue}{62.190}} & {\\color{blue}{61.390}} & 54.310 & 70.170 & 61.750 &\n",
    "   91.080\\\\\n",
    "   61.230 & 48.700 & {\\color{blue}{60.300}} & {\\color{blue}{68.580}} & 61.250 & 70.340  & \\textrm{NaN}  &\n",
    "   \\textrm{NaN}\\\\\n",
    "   52.900 & 52.690 & 54.230 &  \\textrm{NaN}  & 68.170 & 70.600 & 57.870 &\n",
    "   88.640\\\\\n",
    "   57.370 & 59.040 & {\\color{blue}{59.870}} & {\\color{blue}{62.090}} & 61.620  &66.470 & 65.370 &\n",
    "   85.840\n",
    "\\end{array}\\right]. \n",
    "$$\n",
    "\n",
    "\n",
    "* And to compute the covariance between the 3rd and 4th variables: \n",
    "\n",
    "\n",
    "$$\n",
    "\\begin{eqnarray*} \\large v_1^T &=& \\large [47.938, 45.563, 52.313, 53.438, 62.190, 60.300, 59.870]  \\nonumber \\\\\n",
    "\\large v_2^T &=& \\large [60.359, 69.313, 71.016, 57.000, 61.390, 68.580, 62.090]  \\\\ \\large s(3,4) &=&  \\frac{1}{6} \\large  (v_1 - \\bar{v}_1 )^T(v_2 - \\bar{v}_2) \\nonumber\n",
    "\\end{eqnarray*}\n",
    "$$\n",
    "\n",
    "\n",
    "\n",
    "<!--<img src=\"pic07.png\" width=\"500\">\n",
    "-->"
   ]
  },
  {
   "cell_type": "markdown",
   "metadata": {
    "nbpresent": {
     "id": "d9befd83-b685-483d-b30d-2a3847948ca5"
    }
   },
   "source": [
    "### Import required modules and set print options"
   ]
  },
  {
   "cell_type": "code",
   "execution_count": 32,
   "metadata": {
    "collapsed": false,
    "nbpresent": {
     "id": "bbde4683-adc6-4094-891a-5487f24b873e"
    }
   },
   "outputs": [],
   "source": [
    "import numpy as np\n",
    "import nag4py.g02 as nag_g02\n",
    "import nag4py.util as nag_util\n",
    "import matplotlib.pyplot as plt\n",
    "\"Plot inline.\"\n",
    "%matplotlib inline\n",
    "\"Set the print precision.\"\n",
    "np.set_printoptions(precision=4)"
   ]
  },
  {
   "cell_type": "markdown",
   "metadata": {
    "nbpresent": {
     "id": "f9399cc1-faa3-4ec2-a59d-47f60c08759a"
    }
   },
   "source": [
    "### Initialize our *P* matrix of observations"
   ]
  },
  {
   "cell_type": "code",
   "execution_count": 9,
   "metadata": {
    "collapsed": false,
    "nbpresent": {
     "id": "ffa06d72-354c-45f8-95d8-95d411e89091"
    }
   },
   "outputs": [],
   "source": [
    "\"Define a 2-d array and us np.nan to set elements as NaNs.\"\n",
    "P = np.array([[59.875, 42.734, 47.938, 60.359, 54.016, 69.625, 61.500, 62.125],\n",
    "              [53.188, 49.000, 39.500, np.nan, 34.750, np.nan, 83.000, 44.500],\n",
    "              [55.750, 50.000, 38.938, np.nan, 30.188, np.nan, 70.875, 29.938],\n",
    "              [65.500, 51.063, 45.563, 69.313, 48.250, 62.375, 85.250, np.nan],\n",
    "              [69.938, 47.000, 52.313, 71.016, np.nan, 59.359, 61.188, 48.219],\n",
    "              [61.500, 44.188, 53.438, 57.000, 35.313, 55.813, 51.500, 62.188],\n",
    "              [59.230, 48.210, 62.190, 61.390, 54.310, 70.170, 61.750, 91.080],\n",
    "              [61.230, 48.700, 60.300, 68.580, 61.250, 70.340, np.nan, np.nan],\n",
    "              [52.900, 52.690, 54.230, np.nan, 68.170, 70.600, 57.870, 88.640],\n",
    "              [57.370, 59.040, 59.870, 62.090, 61.620, 66.470, 65.370, 85.840]])"
   ]
  },
  {
   "cell_type": "markdown",
   "metadata": {
    "nbpresent": {
     "id": "3a438349-5641-4df8-bdf1-a86b6ee757ab"
    }
   },
   "source": [
    "### Compute the covariance, ignoring missing values"
   ]
  },
  {
   "cell_type": "code",
   "execution_count": 10,
   "metadata": {
    "collapsed": false,
    "nbpresent": {
     "id": "af5081b7-3d9a-47f5-8dc1-69fcc57821c0"
    }
   },
   "outputs": [],
   "source": [
    "def cov_bar(P):\n",
    "    \"\"\"Returns an approximate sample covariance matrix\"\"\"\n",
    "    \"P.shape returns a tuple (m, n) that we unpack to m and n.\"\n",
    "    m, n = P.shape\n",
    "    \"Initialize an n-by-n zero matrix.\"\n",
    "    S = np.zeros((n, n))\n",
    "    \"i = 0, ..., 7.\"\n",
    "    for i in range(0, n): \n",
    "        \"Take the ith column.\"\n",
    "        xi = P[:, i]\n",
    "        \"j = 0, ..., i\"\n",
    "        for j in range(0, i+1):\n",
    "            \"Take the jth column, where j <= i.\"\n",
    "            xj = P[:, j] \n",
    "            \"Set mask such that all NaNs are True.\"\n",
    "            notp = np.isnan(xi) | np.isnan(xj) \n",
    "            \"Apply the mask to xi\"\n",
    "            xim = np.ma.masked_array(xi, mask=notp)\n",
    "            \"Apply the mask to xj\"\n",
    "            xjm = np.ma.masked_array(xj, mask=notp) \n",
    "            S[i, j] = np.ma.dot(xim - np.mean(xim), xjm - np.mean(xjm))\n",
    "            \"Take the sum over ~notp to normalize.\"\n",
    "            S[i, j] = 1.0 / (sum(~notp) - 1) * S[i, j]\n",
    "            S[j, i] = S[i, j]\n",
    "    return S"
   ]
  },
  {
   "cell_type": "code",
   "execution_count": 11,
   "metadata": {
    "collapsed": false,
    "nbpresent": {
     "id": "80b820b1-7c3b-4c96-a4a6-09b5ef00dacb"
    }
   },
   "outputs": [],
   "source": [
    "def cor_bar(P):\n",
    "    \"\"\"Returns an approximate sample correlation matrix\"\"\"\n",
    "    S = cov_bar(P)\n",
    "    D = np.diag(1.0 / np.sqrt(np.diag(S)))\n",
    "    \"This is will only work in Python3\"\n",
    "    return D @ S @ D \n"
   ]
  },
  {
   "cell_type": "markdown",
   "metadata": {
    "nbpresent": {
     "id": "a8b4aa95-2ba3-4f09-8f65-ab45831b1108"
    }
   },
   "source": [
    "### Compute the *approximate* correlation matrix"
   ]
  },
  {
   "cell_type": "code",
   "execution_count": 12,
   "metadata": {
    "collapsed": false,
    "nbpresent": {
     "id": "f417663e-badf-45d3-8f98-0647907657de"
    }
   },
   "outputs": [
    {
     "name": "stdout",
     "output_type": "stream",
     "text": [
      "[[ 1.     -0.325   0.1881  0.576   0.0064 -0.6111 -0.0724 -0.1589]\n",
      " [-0.325   1.      0.2048  0.2436  0.4058  0.273   0.2869  0.4241]\n",
      " [ 0.1881  0.2048  1.     -0.1325  0.7658  0.2765 -0.6172  0.9006]\n",
      " [ 0.576   0.2436 -0.1325  1.      0.3041  0.0126  0.6452 -0.321 ]\n",
      " [ 0.0064  0.4058  0.7658  0.3041  1.      0.6652 -0.3293  0.9939]\n",
      " [-0.6111  0.273   0.2765  0.0126  0.6652  1.      0.0492  0.5964]\n",
      " [-0.0724  0.2869 -0.6172  0.6452 -0.3293  0.0492  1.     -0.3983]\n",
      " [-0.1589  0.4241  0.9006 -0.321   0.9939  0.5964 -0.3983  1.    ]]\n"
     ]
    }
   ],
   "source": [
    "G = cor_bar(P)\n",
    "print(G)"
   ]
  },
  {
   "cell_type": "markdown",
   "metadata": {
    "nbpresent": {
     "id": "f3de275a-ac50-402b-a9e9-fb6f14aef20a"
    }
   },
   "source": [
    "### Compute the eigenvalues of our (indefinite) *G*."
   ]
  },
  {
   "cell_type": "code",
   "execution_count": 13,
   "metadata": {
    "collapsed": false,
    "nbpresent": {
     "id": "b1c83af0-e6ca-42cc-a0ca-50276ebe4f67"
    }
   },
   "outputs": [
    {
     "name": "stdout",
     "output_type": "stream",
     "text": [
      "The sorted eigenvalues of G [-0.2498 -0.016   0.0895  0.2192  0.7072  1.7534  1.9611  3.5355]\n"
     ]
    }
   ],
   "source": [
    "print(\"The sorted eigenvalues of G {}\".format(np.sort(np.linalg.eig(G)[0])))"
   ]
  },
  {
   "cell_type": "markdown",
   "metadata": {
    "nbpresent": {
     "id": "7b0f8df4-0484-4a23-b5fd-1ff66bd0000d"
    }
   },
   "source": [
    "## Nearest Correlation Matrices\n",
    "\n",
    "* We seek to solve:\n",
    "\n",
    "\n",
    "$$ \n",
    "\\large  \\min \\frac{1}{2} \\| G-X \\|^2_F = \\min \\frac{1}{2} \\sum_{i=1}^{n}  \\sum_{i=1}^{n} \\left| G(i,j)-X(i,j) \\right| ^2 \n",
    "$$\n",
    "\n",
    "\n",
    "* In order to find X, a true correlation matrix, where G is an approximate correlation matrix.\n",
    "\n",
    "\n",
    "* Algorithm by Qi and Sun (2006), applies an inexact Newton method to a dual (unconstrained) formulation of this problem.\n",
    "\n",
    "\n",
    "* Improvements suggested by Borsdorf and Higham (2010 MSc).\n",
    "\n",
    "\n",
    "* It is globally and quadratic (fast!) convergent.\n",
    "\n",
    "\n",
    "* This is implemented in NAG routine **g02aa**.\n",
    "\n",
    "<img src=\"footer.png\" width=100%>\n"
   ]
  },
  {
   "cell_type": "markdown",
   "metadata": {
    "nbpresent": {
     "id": "5fe4edf2-768e-47ef-b5e1-62f64c49ebae"
    }
   },
   "source": [
    "### Using g02aa to compute the nearest correlation matrix in the Frobenius norm"
   ]
  },
  {
   "cell_type": "code",
   "execution_count": 14,
   "metadata": {
    "collapsed": false,
    "nbpresent": {
     "id": "9d1819cb-4c08-4d0b-8cbe-d9de4ab61a0f"
    }
   },
   "outputs": [],
   "source": [
    "\"Set up the call to the NAG routine.\"\n",
    "order = nag_util.Nag_RowMajor\n",
    "Gflat = G.flatten()\n",
    "n = G.shape[0]\n",
    "pdg = n\n",
    "errtol = 0.0\n",
    "maxits = 0\n",
    "maxit = 0\n",
    "Xflat = np.empty_like(Gflat)\n",
    "pdx = n\n",
    "\"Output arguments as 1 element arrays.\"\n",
    "itr = np.array([0])\n",
    "feval = np.array([0])\n",
    "nrmgrd = np.array([0.0])\n",
    "\"Set noisy fail, error message printed but program not stopped.\"\n",
    "fail = nag_util.noisy_fail()\n",
    "\"Call g02aa.\"\n",
    "nag_g02.g02aac(order, Gflat, pdg, n, errtol, maxits, \n",
    "               maxit, Xflat, pdx, itr, feval, nrmgrd, fail)"
   ]
  },
  {
   "cell_type": "code",
   "execution_count": 15,
   "metadata": {
    "collapsed": false,
    "nbpresent": {
     "id": "cbf6b8fd-fa7c-47ee-a453-ab971310188f"
    }
   },
   "outputs": [
    {
     "name": "stdout",
     "output_type": "stream",
     "text": [
      "[[ 1.     -0.3112  0.1889  0.5396  0.0268 -0.5925 -0.0621 -0.1921]\n",
      " [-0.3112  1.      0.205   0.2265  0.4148  0.2822  0.2915  0.4088]\n",
      " [ 0.1889  0.205   1.     -0.1468  0.788   0.2727 -0.6085  0.8802]\n",
      " [ 0.5396  0.2265 -0.1468  1.      0.2137  0.0015  0.6069 -0.2208]\n",
      " [ 0.0268  0.4148  0.788   0.2137  1.      0.658  -0.2812  0.8762]\n",
      " [-0.5925  0.2822  0.2727  0.0015  0.658   1.      0.0479  0.5932]\n",
      " [-0.0621  0.2915 -0.6085  0.6069 -0.2812  0.0479  1.     -0.447 ]\n",
      " [-0.1921  0.4088  0.8802 -0.2208  0.8762  0.5932 -0.447   1.    ]]\n"
     ]
    }
   ],
   "source": [
    "\"Unflatten X to have the same shape as G for comparison.\"\n",
    "X = np.reshape(Xflat, G.shape) \n",
    "print(X)"
   ]
  },
  {
   "cell_type": "code",
   "execution_count": 16,
   "metadata": {
    "collapsed": false,
    "nbpresent": {
     "id": "9737d750-04fe-4a91-933c-a799449e427e"
    }
   },
   "outputs": [
    {
     "name": "stdout",
     "output_type": "stream",
     "text": [
      "The sorted eigenvalues of X [-0.0000 -0.0000 0.0380 0.1731 0.6894 1.7117 1.9217 3.4661 ]\n"
     ]
    }
   ],
   "source": [
    "print(\"The sorted eigenvalues of X [{0}]\".format(''.join(\n",
    "            ['{:.4f} '.format(x) for x in np.sort(np.linalg.eig(X)[0])])))"
   ]
  },
  {
   "cell_type": "code",
   "execution_count": 17,
   "metadata": {
    "collapsed": false,
    "nbpresent": {
     "id": "85008295-2019-4aae-8de4-10440d7b1192"
    }
   },
   "outputs": [
    {
     "data": {
      "image/png": "[encoded data removed]",
      "text/plain": [
       "<matplotlib.figure.Figure at 0x8018630>"
      ]
     },
     "metadata": {},
     "output_type": "display_data"
    }
   ],
   "source": [
    "\"Plot the difference between G and X.\"\n",
    "fig1, ax1 = plt.subplots(figsize=(14, 7))\n",
    "cax1 = ax1.imshow(abs(X-G), interpolation='none', cmap=plt.cm.Blues, vmin=0, vmax=0.2)\n",
    "cbar = fig1.colorbar(cax1, ticks = np.linspace(0.0, 0.2, 11, endpoint=True), \n",
    "                     boundaries=np.linspace(0.0, 0.2, 11, endpoint=True))\n",
    "cbar.set_clim([0, 0.2])\n",
    "ax1.tick_params(axis='both', which='both', \n",
    "                bottom='off', top='off', left='off', right='off', \n",
    "                labelbottom='off', labelleft='off')\n",
    "ax1.set_title(r'g02aa: iterations: {0}, $||G-X||_F = {1:.5f}$'.format(itr[0], \n",
    "                                                    np.linalg.norm(X-G)), fontsize=18)\n",
    "plt.show()"
   ]
  },
  {
   "cell_type": "markdown",
   "metadata": {
    "nbpresent": {
     "id": "600de3c9-794b-49c8-87b8-225a1c1c9851"
    }
   },
   "source": [
    "## Weighting rows and columns of elements\n",
    "\n",
    "<!--<img src=\"pic09.png\" width=\"450\" align=\"right\">\n",
    "-->\n",
    "\n",
    "* However, we note that for Stocks A to C we have a complete set of observations.\n",
    "\n",
    "\n",
    "$$\n",
    "P=\\left[\\begin{array}{rrrrrrrr}\n",
    "{\\color{blue}{59.875}} &  {\\color{blue}{42.734}} & {\\color{blue}{47.938}} & 60.359 & 54.016 & 69.625 & 61.500 &\n",
    "62.125 \\\\\n",
    "   {\\color{blue}{53.188}} & {\\color{blue}{49.000}} & {\\color{blue}{39.500}} &  \\textrm{NaN} &  34.750 &  \\textrm{NaN} &  83.000 &\n",
    "   44.500\\\\\n",
    "   {\\color{blue}{55.750}} & {\\color{blue}{50.000}} & {\\color{blue}{38.938}}  & \\textrm{NaN}  & 30.188  & \\textrm{NaN} &  70.875 &\n",
    "   29.938\\\\\n",
    "   {\\color{blue}{65.500}} & {\\color{blue}{51.063}} & {\\color{blue}{45.563}} & 69.313 & 48.250 & 62.375 & 85.250  &\n",
    "   \\textrm{NaN}\\\\\n",
    "   {\\color{blue}{69.938}} & {\\color{blue}{47.000}} & {\\color{blue}{52.313}} & 71.016 & \\textrm{NaN}  & 59.359 & 61.188 &\n",
    "   48.219\\\\\n",
    "   {\\color{blue}{61.500}} & {\\color{blue}{44.188}} &  {\\color{blue}{53.438}} &  57.000 & 35.313 & 55.813 & 51.500 &\n",
    "   62.188\\\\\n",
    "   {\\color{blue}{59.230}} & {\\color{blue}{48.210}} & {\\color{blue}{62.190}} & 61.390 & 54.310 & 70.170 & 61.750 &\n",
    "   91.080\\\\\n",
    "   {\\color{blue}{61.230}} & {\\color{blue}{48.700}} & {\\color{blue}{60.300}} & 68.580 & 61.250 & 70.340  & \\textrm{NaN}  &\n",
    "   \\textrm{NaN}\\\\\n",
    "   {\\color{blue}{52.900}} & {\\color{blue}{52.690}} & {\\color{blue}{54.230}} &  \\textrm{NaN}  & 68.170 & 70.600 & 57.870 &\n",
    "   88.640\\\\\n",
    "   {\\color{blue}{57.370}} & {\\color{blue}{59.040}} & {\\color{blue}{59.870}} & 62.090 & 61.620  &66.470 & 65.370 &\n",
    "   85.840\n",
    "\\end{array}\\right].\n",
    "$$\n",
    "\n",
    "\n",
    "* Perhaps we wish to preserve part of the correlation matrix?\n",
    "\n",
    "\n",
    "* We could solve the *weighted* problem, NAG routine **g02ab**.\n",
    "\n",
    "$$ \\Large \\|W^{\\frac{1}{2}} (G-X) W^{\\frac{1}{2}} \\|_F$$ \n",
    "\n",
    "* We can also force the resulting matrix to be positive definite.\n",
    "\n",
    "<img src=\"footer.png\" width=100%>\n"
   ]
  },
  {
   "cell_type": "markdown",
   "metadata": {
    "nbpresent": {
     "id": "cd0ce132-5f43-471c-8641-aa4ab54591a9"
    }
   },
   "source": [
    "### Use g02ab to compute the nearest correlation matrix with row and column weighting"
   ]
  },
  {
   "cell_type": "code",
   "execution_count": 18,
   "metadata": {
    "collapsed": false,
    "nbpresent": {
     "id": "0f8ff272-e0f6-417e-8e2e-650964663d0f"
    }
   },
   "outputs": [],
   "source": [
    "\"Define an array of weights.\"\n",
    "W = np.array([10, 10, 10, 1, 1, 1, 1, 1], dtype = np.float64)"
   ]
  },
  {
   "cell_type": "code",
   "execution_count": 19,
   "metadata": {
    "collapsed": false,
    "nbpresent": {
     "id": "0a7c5d11-13ec-4f52-b222-c6540fcdd67c"
    }
   },
   "outputs": [],
   "source": [
    "order = nag_util.Nag_RowMajor\n",
    "Gflat = G.flatten()\n",
    "n = G.shape[0]\n",
    "opt = nag_util.Nag_Both\n",
    "\"Set the smallest eigenvalue.\"\n",
    "alpha = 0.001\n",
    "pdg = n\n",
    "errtol = 0.0\n",
    "maxits = 0\n",
    "maxit = 0\n",
    "Xflat = np.empty_like(Gflat)\n",
    "pdx = n\n",
    "itr = np.array([0])\n",
    "feval = np.array([0])\n",
    "nrmgrd = np.array([0.0])\n",
    "fail = nag_util.noisy_fail()\n",
    "nag_g02.g02abc(order, Gflat, pdg, n, opt, alpha, W, errtol, maxits, \n",
    "               maxit, Xflat, pdx, itr, feval, nrmgrd, fail)"
   ]
  },
  {
   "cell_type": "code",
   "execution_count": 20,
   "metadata": {
    "collapsed": false,
    "nbpresent": {
     "id": "06ca320a-cd53-4247-abae-4ed32f3442b2"
    }
   },
   "outputs": [
    {
     "name": "stdout",
     "output_type": "stream",
     "text": [
      "[[ 1.     -0.3247  0.1879  0.5733  0.0067 -0.609  -0.0721 -0.1596]\n",
      " [-0.3247  1.      0.2046  0.2423  0.4056  0.2735  0.2867  0.4232]\n",
      " [ 0.1879  0.2046  1.     -0.1321  0.7654  0.2756 -0.6164  0.8995]\n",
      " [ 0.5733  0.2423 -0.1321  1.      0.2083 -0.0889  0.5948 -0.1804]\n",
      " [ 0.0067  0.4056  0.7654  0.2083  1.      0.655  -0.2777  0.8748]\n",
      " [-0.609   0.2735  0.2756 -0.0889  0.655   1.      0.049   0.574 ]\n",
      " [-0.0721  0.2867 -0.6164  0.5948 -0.2777  0.049   1.     -0.4545]\n",
      " [-0.1596  0.4232  0.8995 -0.1804  0.8748  0.574  -0.4545  1.    ]]\n"
     ]
    }
   ],
   "source": [
    "X = np.reshape(Xflat, G.shape)\n",
    "print(X)"
   ]
  },
  {
   "cell_type": "code",
   "execution_count": 21,
   "metadata": {
    "collapsed": false,
    "nbpresent": {
     "id": "4db463c7-773f-41ec-84a0-ece179fa37da"
    }
   },
   "outputs": [
    {
     "name": "stdout",
     "output_type": "stream",
     "text": [
      "The sorted eigenvalues of X [0.0020 0.0020 0.0315 0.1655 0.6767 1.7708 1.8901 3.4614 ]\n"
     ]
    }
   ],
   "source": [
    "print(\"The sorted eigenvalues of X [{0}]\".format(''.join(\n",
    "            ['{:.4f} '.format(x) for x in np.sort(np.linalg.eig(X)[0])])))"
   ]
  },
  {
   "cell_type": "code",
   "execution_count": 22,
   "metadata": {
    "collapsed": false,
    "nbpresent": {
     "id": "f769cb44-ca59-43ad-a0b6-29e394f2557e"
    }
   },
   "outputs": [
    {
     "data": {
      "image/png": "[encoded data removed]",
      "text/plain": [
       "<matplotlib.figure.Figure at 0x7fea3c8>"
      ]
     },
     "metadata": {},
     "output_type": "display_data"
    }
   ],
   "source": [
    "fig1, ax1 = plt.subplots(figsize=(14, 7))\n",
    "cax1 = ax1.imshow(abs(X-G), interpolation='none', cmap=plt.cm.Blues, vmin=0, vmax=0.2)\n",
    "cbar = fig1.colorbar(cax1, ticks = np.linspace(0.0, 0.2, 11, endpoint=True), \n",
    "                     boundaries=np.linspace(0.0, 0.2, 11, endpoint=True))\n",
    "cbar.set_clim([0, 0.2])\n",
    "ax1.tick_params(axis='both', which='both', \n",
    "                bottom='off', top='off', left='off', right='off', \n",
    "                labelbottom='off', labelleft='off')\n",
    "ax1.set_title(r'g02ab: iterations: {0}, $||G-X||_F = {1:.4f}$'.format(itr[0], \n",
    "                                                    np.linalg.norm(X-G)), fontsize=18)\n",
    "plt.show()"
   ]
  },
  {
   "cell_type": "markdown",
   "metadata": {
    "nbpresent": {
     "id": "d557be83-a9a7-4634-a737-8174d4096889"
    }
   },
   "source": [
    "## Weighting Individual Elements\n",
    "\n",
    "* Would it be better to be able to *weight individual elements* in our approximate matrix?\n",
    "\n",
    "\n",
    "* In our example the top left 3-by-3 block of exact correlations, perhaps.\n",
    "\n",
    "\n",
    "* Element-wise weighting means we wish to find the minimum of:\n",
    "\n",
    "$$ \\Large \\|H \\circ(G-X) \\|_F$$ \n",
    "\n",
    "\n",
    "* So individually: $h_{ij} \\times (g_{ij} – x_{ij})$\n",
    "\n",
    "\n",
    "* However, this is a more “difficult” problem, and more computationally expensive. \n",
    "\n",
    "\n",
    "* Implemented in the NAG routine **g02aj**.\n",
    "\n",
    "<img src=\"footer.png\" width=100%>"
   ]
  },
  {
   "cell_type": "markdown",
   "metadata": {
    "nbpresent": {
     "id": "1865afa3-9b32-4bb5-83d0-ddc9c6f709a0"
    }
   },
   "source": [
    "### Use g02aj to compute the nearest correlation matrix with element-wise weighting"
   ]
  },
  {
   "cell_type": "code",
   "execution_count": 23,
   "metadata": {
    "collapsed": false,
    "nbpresent": {
     "id": "d477130b-e56d-4bab-b0bd-3a1ddf2c328d"
    }
   },
   "outputs": [
    {
     "name": "stdout",
     "output_type": "stream",
     "text": [
      "[[ 100.  100.  100.    1.    1.    1.    1.    1.]\n",
      " [ 100.  100.  100.    1.    1.    1.    1.    1.]\n",
      " [ 100.  100.  100.    1.    1.    1.    1.    1.]\n",
      " [   1.    1.    1.    1.    1.    1.    1.    1.]\n",
      " [   1.    1.    1.    1.    1.    1.    1.    1.]\n",
      " [   1.    1.    1.    1.    1.    1.    1.    1.]\n",
      " [   1.    1.    1.    1.    1.    1.    1.    1.]\n",
      " [   1.    1.    1.    1.    1.    1.    1.    1.]]\n"
     ]
    }
   ],
   "source": [
    "\"Set up our matrix of weights.\"\n",
    "H = np.ones([n, n])\n",
    "H[0:3, 0:3] = 100\n",
    "print(H);"
   ]
  },
  {
   "cell_type": "code",
   "execution_count": 24,
   "metadata": {
    "collapsed": false,
    "nbpresent": {
     "id": "59164e07-d021-4b2f-8dc8-c526c7e4223c"
    }
   },
   "outputs": [],
   "source": [
    "Gflat = G.flatten()\n",
    "n = G.shape[0]\n",
    "alpha = 0.001\n",
    "Hflat = H.flatten()\n",
    "pdg = n\n",
    "pdh = n\n",
    "errtol = 0.0\n",
    "maxits = 0\n",
    "maxit = 500\n",
    "Xflat = np.empty_like(Gflat)\n",
    "pdx = n\n",
    "itr = np.array([0])\n",
    "norm = np.array([0.0])\n",
    "fail = nag_util.noisy_fail()\n",
    "nag_g02.g02ajc(Gflat, pdg, n, alpha, Hflat, pdh, errtol, \n",
    "               maxit, Xflat, pdx, itr, norm, fail)"
   ]
  },
  {
   "cell_type": "code",
   "execution_count": 25,
   "metadata": {
    "collapsed": false,
    "nbpresent": {
     "id": "4b56ea69-b9da-428e-980e-d5c7dfedd017"
    }
   },
   "outputs": [
    {
     "name": "stdout",
     "output_type": "stream",
     "text": [
      "[[ 1.     -0.3247  0.188   0.5091  0.0306 -0.5611 -0.0569 -0.1701]\n",
      " [-0.3247  1.      0.2047  0.2146  0.3837  0.2504  0.2676  0.3781]\n",
      " [ 0.188   0.2047  1.     -0.1331  0.7175  0.2534 -0.5607  0.812 ]\n",
      " [ 0.5091  0.2146 -0.1331  1.      0.2081  0.0145  0.6079 -0.2272]\n",
      " [ 0.0306  0.3837  0.7175  0.2081  1.      0.6622 -0.282   0.8732]\n",
      " [-0.5611  0.2504  0.2534  0.0145  0.6622  1.      0.0482  0.5982]\n",
      " [-0.0569  0.2676 -0.5607  0.6079 -0.282   0.0482  1.     -0.4438]\n",
      " [-0.1701  0.3781  0.812  -0.2272  0.8732  0.5982 -0.4438  1.    ]]\n"
     ]
    }
   ],
   "source": [
    "X = np.reshape(Xflat, G.shape)\n",
    "print(X)"
   ]
  },
  {
   "cell_type": "code",
   "execution_count": 26,
   "metadata": {
    "collapsed": false,
    "nbpresent": {
     "id": "a5652370-f1f9-4b64-b5e6-9d5869e82366"
    }
   },
   "outputs": [
    {
     "name": "stdout",
     "output_type": "stream",
     "text": [
      "The sorted eigenvalues of X [0.0020 0.0129 0.1162 0.2104 0.7367 1.6700 1.8892 3.3627 ]\n"
     ]
    }
   ],
   "source": [
    "print(\"The sorted eigenvalues of X [{0}]\".format(''.join(\n",
    "            ['{:.4f} '.format(x) for x in np.sort(np.linalg.eig(X)[0])])))"
   ]
  },
  {
   "cell_type": "code",
   "execution_count": 27,
   "metadata": {
    "collapsed": false,
    "nbpresent": {
     "id": "e07e5a46-5f1d-49ef-9ae7-20b944efd9fb"
    }
   },
   "outputs": [
    {
     "data": {
      "image/png": "[encoded data removed]",
      "text/plain": [
       "<matplotlib.figure.Figure at 0x809d400>"
      ]
     },
     "metadata": {},
     "output_type": "display_data"
    }
   ],
   "source": [
    "fig1, ax1 = plt.subplots(figsize=(14, 7))\n",
    "cax1 = ax1.imshow(abs(X-G), interpolation='none', cmap=plt.cm.Blues, vmin=0, vmax=0.2)\n",
    "cbar = fig1.colorbar(cax1, ticks = np.linspace(0.0, 0.2, 11, endpoint=True), \n",
    "                     boundaries=np.linspace(0.0, 0.2, 11, endpoint=True))\n",
    "cbar.set_clim([0, 0.2])\n",
    "ax1.tick_params(axis='both', which='both', \n",
    "                bottom='off', top='off', left='off', right='off', \n",
    "                labelbottom='off', labelleft='off')\n",
    "ax1.set_title(r'g02aj: iterations: {0}, $||G-X||_F = {1:.4f}$'.format(itr[0], \n",
    "                                                    np.linalg.norm(X-G)), fontsize=18)\n",
    "plt.show()"
   ]
  },
  {
   "cell_type": "markdown",
   "metadata": {
    "nbpresent": {
     "id": "39a5aee6-7760-4a9e-a5e3-dee77330a042"
    }
   },
   "source": [
    "## Fixing a Block of Elements\n",
    "\n",
    "* We probably really wish to *fix* our leading block of true correlations, so it does not change at all.\n",
    "\n",
    "\n",
    "* New at Mark 25 was the NAG routine **g02an**.\n",
    "\n",
    "\n",
    "* This routine fixes a leading block, which we require to be positive definite.\n",
    "\n",
    "\n",
    "* We apply the *shrinking algorithm* of Higham, Strabić and Šego. The approach is **not** computationally expensive.\n",
    "\n",
    "\n",
    "* What we find is the smallest α, such that X is a true correlation matrix:\n",
    "\n",
    "\n",
    "$$ \n",
    "\\large X =  \\alpha \\left( \\begin{array}{ll}G_{11} & 0 \\\\ 0 & I \\end{array} \\right) +(1-\\alpha)\\left( \\begin{array}{ll}G_{11} & G_{12} \\\\ G_{12}^T & G_{22} \\end{array} \\right) \n",
    "$$\n",
    "\n",
    "\n",
    "sdsdsd\n",
    "\n",
    "\n",
    "\n",
    "$$ \\large X=  \\alpha \\left( \\begin{array}{ll}G_{11} & 0 \\\\ 0 & I \\end{array} \\right) +(1-\\alpha)G, \\qquad G = \\left( \\begin{array}{ll}G_{11} & G_{12} \\\\ G_{12}^T & G_{22} \\end{array} \\right) \n",
    "$$\n",
    "\n",
    "\n",
    "* *G<sub>11</sub>* is the leading *k*-by-*k* block of the approximate correlation matrix that we wish to fix.\n",
    "\n",
    "\n",
    "* α is in the interval [0,1]\n",
    "\n",
    "<img src=\"footer.png\" width=100%>"
   ]
  },
  {
   "cell_type": "markdown",
   "metadata": {
    "nbpresent": {
     "id": "35cec887-bf5b-4bcd-9482-55523b6c1de6"
    }
   },
   "source": [
    "### Use g02an to compute the nearest correlation matrix with fixed leading block"
   ]
  },
  {
   "cell_type": "code",
   "execution_count": 28,
   "metadata": {
    "collapsed": false,
    "nbpresent": {
     "id": "9e7248c0-f11a-4cd7-8454-3545797ad928"
    }
   },
   "outputs": [],
   "source": [
    "Gflat = G.flatten()\n",
    "n = G.shape[0]\n",
    "pdg = n\n",
    "\"Set the size of block we are fixing.\"\n",
    "k = 3\n",
    "errtol = 0.0\n",
    "eigtol = 0.0\n",
    "maxits = 0\n",
    "maxit = 500\n",
    "Xflat = np.empty_like(Gflat)\n",
    "pdx = n\n",
    "alpha = np.array([0.0])\n",
    "itr = np.array([0])\n",
    "eigmin = np.array([0.0])\n",
    "norm = np.array([0.0])\n",
    "fail = nag_util.noisy_fail()\n",
    "nag_g02.g02anc(Gflat, pdg, n, k, errtol, eigtol, Xflat, pdx, \n",
    "               alpha, itr, eigmin, norm, fail)"
   ]
  },
  {
   "cell_type": "code",
   "execution_count": 29,
   "metadata": {
    "collapsed": false,
    "nbpresent": {
     "id": "c1a4afe7-e788-495d-a691-f433a82e0e11"
    }
   },
   "outputs": [
    {
     "name": "stdout",
     "output_type": "stream",
     "text": [
      "[[ 1.     -0.325   0.1881  0.4606  0.0051 -0.4887 -0.0579 -0.1271]\n",
      " [-0.325   1.      0.2048  0.1948  0.3245  0.2183  0.2294  0.3391]\n",
      " [ 0.1881  0.2048  1.     -0.106   0.6124  0.2211 -0.4936  0.7202]\n",
      " [ 0.4606  0.1948 -0.106   1.      0.2432  0.0101  0.516  -0.2567]\n",
      " [ 0.0051  0.3245  0.6124  0.2432  1.      0.532  -0.2634  0.7949]\n",
      " [-0.4887  0.2183  0.2211  0.0101  0.532   1.      0.0393  0.4769]\n",
      " [-0.0579  0.2294 -0.4936  0.516  -0.2634  0.0393  1.     -0.3185]\n",
      " [-0.1271  0.3391  0.7202 -0.2567  0.7949  0.4769 -0.3185  1.    ]]\n"
     ]
    }
   ],
   "source": [
    "X = np.reshape(Xflat, G.shape)\n",
    "print(X)"
   ]
  },
  {
   "cell_type": "code",
   "execution_count": 30,
   "metadata": {
    "collapsed": false,
    "nbpresent": {
     "id": "3eadfa7e-67da-4128-89cc-641d720a8679"
    }
   },
   "outputs": [
    {
     "name": "stdout",
     "output_type": "stream",
     "text": [
      "The sorted eigenvalues of X [0.0000 0.1375 0.2744 0.3804 0.7768 1.6263 1.7689 3.0356 ]\n",
      "Value of alpha returned: 0.2003\n"
     ]
    }
   ],
   "source": [
    "print(\"The sorted eigenvalues of X [{0}]\".format(''.join(\n",
    "            ['{:.4f} '.format(x) for x in np.sort(np.linalg.eig(X)[0])])))\n",
    "print(\"Value of alpha returned: {:.4f}\".format(np.asscalar(alpha)))"
   ]
  },
  {
   "cell_type": "code",
   "execution_count": 31,
   "metadata": {
    "collapsed": false,
    "nbpresent": {
     "id": "4dfd2936-1a71-4f33-b4df-8f271e6caae4"
    }
   },
   "outputs": [
    {
     "data": {
      "image/png": "[encoded data removed]",
      "text/plain": [
       "<matplotlib.figure.Figure at 0x8170780>"
      ]
     },
     "metadata": {},
     "output_type": "display_data"
    }
   ],
   "source": [
    "fig1, ax1 = plt.subplots(figsize=(14, 7))\n",
    "cax1 = ax1.imshow(abs(X-G), interpolation='none', cmap=plt.cm.Blues, vmin=0, vmax=0.2)\n",
    "cbar = fig1.colorbar(cax1, ticks = np.linspace(0.0, 0.2, 11, endpoint=True),\n",
    "                     boundaries=np.linspace(0.0, 0.2, 11, endpoint=True))\n",
    "cbar.set_clim([0, 0.2])\n",
    "ax1.tick_params(axis='both', which='both', \n",
    "                bottom='off', top='off', left='off', right='off', \n",
    "                labelbottom='off', labelleft='off')\n",
    "ax1.set_title(r'g02an: iterations: {0}, $||G-X||_F = {1:.4f}$'.format(itr[0], \n",
    "                                                  np.linalg.norm(X-G)), fontsize=18)\n",
    "plt.show()"
   ]
  },
  {
   "cell_type": "markdown",
   "metadata": {
    "nbpresent": {
     "id": "d9a2935a-ef2a-4279-a5a6-385bb10917d9"
    }
   },
   "source": [
    "## Fixing Arbitrary Elements\n",
    "\n",
    "* In Mark 26 of the NAG libraries we will have the new routine **g02ap**.\n",
    "\n",
    "\n",
    "* This routine fixes arbitrary elements by finding the smallest α, such that *X* is a true correlation matrix in:\n",
    "\n",
    "$$X= \\large \\alpha T+(1-\\alpha)G, \\quad T=H \\circ G, \\quad h_{ij} \\in [0,1] $$\n",
    "\n",
    "* A \"1\" in *H* fixes corresponding elements in *G*.\n",
    "\n",
    "\n",
    "* 0 < *h<sub>ij</sub>* < 1 weights corresponding element in *G*.\n",
    "\n",
    "\n",
    "* α is again in the interval [0,1]\n",
    "\n",
    "<img src=\"footer.png\" width=100%>\n"
   ]
  },
  {
   "cell_type": "markdown",
   "metadata": {
    "collapsed": true,
    "nbpresent": {
     "id": "4726f42a-663c-4597-9eb8-ba909dcbff64"
    }
   },
   "source": [
    "## Alternating Projections\n",
    "\n",
    "* First method proposed to solve our problem, however, it is very slow.\n",
    "\n",
    "\n",
    "* The idea is we alternate projecting onto two sets, which are:\n",
    "   * the set of smeidefinite matrices (S1), and \n",
    "   * matrices with unit diagonal (s2) \n",
    "\n",
    "\n",
    "* We do this until we converge on a matrix with both properties.\n",
    "\n",
    "<img src = \"alt_proj.png\" width = \"300\">\n",
    "\n",
    "\n",
    "\n",
    "\n",
    "\n",
    "\n",
    "<img src=\"footer.png\" width=100%>\n"
   ]
  },
  {
   "cell_type": "markdown",
   "metadata": {},
   "source": [
    "## Alternating Projections with Anderson Acceleration\n",
    "\n",
    "\n",
    "* A new approach by Higham and Strabić uses *Anderson Acceleration*, and makes the method worthwhile.\n",
    "\n",
    "\n",
    "* In particulary, we will be able to fix elements whilst finding the nearest true correlation matrix in the Frobenius norm.\n",
    "\n",
    "\n",
    "* Our projections are now:\n",
    "   * the set of (semi)definite matrices with some minimum eigenvalue, and \n",
    "   * matrix with elements $G_{i,j}$ for some given indices $i$ and $j$. \n",
    "\n",
    "\n",
    "\n",
    "\n",
    "\n",
    "<img src=\"footer.png\" width=100%>\n"
   ]
  },
  {
   "cell_type": "markdown",
   "metadata": {
    "collapsed": true
   },
   "source": [
    "### Thank you for your time\n",
    "\n",
    "<pre>\n",
    "\n",
    "</pre>\n",
    "\n",
    "### Visit the website: -> software -> documentation\n",
    "\n",
    "<pre>\n",
    "\n",
    "</pre>\n",
    "\n",
    "### http://www.nag.co.uk/nag-library-python\n",
    "\n",
    "\n",
    "\n",
    "    \n",
    "    \n",
    "    \n",
    "<img src=\"footer.png\">"
   ]
  }
 ],
 "metadata": {
  "anaconda-cloud": {},
  "celltoolbar": "Raw Cell Format",
  "kernelspec": {
   "display_name": "Python [Root]",
   "language": "python",
   "name": "Python [Root]"
  },
  "language_info": {
   "codemirror_mode": {
    "name": "ipython",
    "version": 3
   },
   "file_extension": ".py",
   "mimetype": "text/x-python",
   "name": "python",
   "nbconvert_exporter": "python",
   "pygments_lexer": "ipython3",
   "version": "3.5.2"
  },
  "nbpresent": {
   "slides": {
    "1750b204-3948-4055-961a-28e403c34d45": {
     "id": "1750b204-3948-4055-961a-28e403c34d45",
     "prev": "d13271a9-64b9-4c68-9bbe-90695af58672",
     "regions": {
      "ca87c654-b4d9-40b6-a45f-a6e18983cbf2": {
       "attrs": {
        "height": 0.8,
        "width": 0.8,
        "x": 0.1,
        "y": 0.1
       },
       "content": {
        "cell": "d477130b-e56d-4bab-b0bd-3a1ddf2c328d",
        "part": "whole"
       },
       "id": "ca87c654-b4d9-40b6-a45f-a6e18983cbf2"
      }
     }
    },
    "1987126a-5ef5-412e-9928-9c8d08045ba8": {
     "id": "1987126a-5ef5-412e-9928-9c8d08045ba8",
     "prev": "a7d10056-58bb-4c47-a55a-1afbd75aec25",
     "regions": {
      "cf839aea-78b6-4c13-b41b-68e7ee33cc06": {
       "attrs": {
        "height": 0.8,
        "width": 0.8,
        "x": 0.1,
        "y": 0.1
       },
       "content": {
        "cell": "3eadfa7e-67da-4128-89cc-641d720a8679",
        "part": "whole"
       },
       "id": "cf839aea-78b6-4c13-b41b-68e7ee33cc06"
      }
     }
    },
    "1d0d6a75-39e7-4be5-ae4e-4152e243553a": {
     "id": "1d0d6a75-39e7-4be5-ae4e-4152e243553a",
     "prev": "27e2acc3-d9b4-431c-8ad1-872a06af8d8b",
     "regions": {
      "f0051e25-adcd-4361-b7f6-d97e71c2c334": {
       "attrs": {
        "height": 0.8,
        "width": 0.8,
        "x": 0.1,
        "y": 0.1
       },
       "content": {
        "cell": "a5652370-f1f9-4b64-b5e6-9d5869e82366",
        "part": "whole"
       },
       "id": "f0051e25-adcd-4361-b7f6-d97e71c2c334"
      }
     }
    },
    "233f2e7c-f482-4e79-a356-ed9ecede9ae5": {
     "id": "233f2e7c-f482-4e79-a356-ed9ecede9ae5",
     "prev": "6e4d7fd8-9f0a-411d-9416-52f98e519749",
     "regions": {
      "239a9bd2-94b2-4e94-8bb7-59a1a2f83daa": {
       "attrs": {
        "height": 0.8,
        "width": 0.8,
        "x": 0.1,
        "y": 0.1
       },
       "content": {
        "cell": "a5fb9867-8630-4b22-aff5-8fa6d9d634ea",
        "part": "whole"
       },
       "id": "239a9bd2-94b2-4e94-8bb7-59a1a2f83daa"
      }
     }
    },
    "2758f2b8-e75c-4987-8094-083a882384f6": {
     "id": "2758f2b8-e75c-4987-8094-083a882384f6",
     "prev": "bab5a454-f4ac-43c3-b83d-c29e8f36f9f8",
     "regions": {
      "11a6fa65-c82a-4924-bd1e-a8c4539473c6": {
       "attrs": {
        "height": 0.8,
        "width": 0.8,
        "x": 0.1,
        "y": 0.1
       },
       "content": {
        "cell": "9e7248c0-f11a-4cd7-8454-3545797ad928",
        "part": "whole"
       },
       "id": "11a6fa65-c82a-4924-bd1e-a8c4539473c6"
      }
     }
    },
    "27e2acc3-d9b4-431c-8ad1-872a06af8d8b": {
     "id": "27e2acc3-d9b4-431c-8ad1-872a06af8d8b",
     "prev": "2c0ba92c-b372-4d29-9030-dc10d31b5312",
     "regions": {
      "626d7a2c-b510-4337-ae06-35fa3d5ca710": {
       "attrs": {
        "height": 0.8,
        "width": 0.8,
        "x": 0.1,
        "y": 0.1
       },
       "content": {
        "cell": "4b56ea69-b9da-428e-980e-d5c7dfedd017",
        "part": "whole"
       },
       "id": "626d7a2c-b510-4337-ae06-35fa3d5ca710"
      }
     }
    },
    "28d7e77e-5014-4078-b076-c50af5af532d": {
     "id": "28d7e77e-5014-4078-b076-c50af5af532d",
     "prev": "44f4452c-f3e8-43c3-a8de-eab5abda97a3",
     "regions": {
      "5897e24d-b94c-48e9-98ce-a34c0672472e": {
       "attrs": {
        "height": 0.8,
        "width": 0.8,
        "x": 0.1,
        "y": 0.1
       },
       "content": {
        "cell": "06ca320a-cd53-4247-abae-4ed32f3442b2",
        "part": "whole"
       },
       "id": "5897e24d-b94c-48e9-98ce-a34c0672472e"
      }
     }
    },
    "2c0ba92c-b372-4d29-9030-dc10d31b5312": {
     "id": "2c0ba92c-b372-4d29-9030-dc10d31b5312",
     "prev": "1750b204-3948-4055-961a-28e403c34d45",
     "regions": {
      "a86e4c34-f238-41be-a954-e9c9915e7595": {
       "attrs": {
        "height": 0.8,
        "width": 0.8,
        "x": 0.1,
        "y": 0.1
       },
       "content": {
        "cell": "59164e07-d021-4b2f-8dc8-c526c7e4223c",
        "part": "whole"
       },
       "id": "a86e4c34-f238-41be-a954-e9c9915e7595"
      }
     }
    },
    "33d8ca1f-2a7d-4ca5-8e8b-421b5a016874": {
     "id": "33d8ca1f-2a7d-4ca5-8e8b-421b5a016874",
     "prev": "6ecb639b-037d-4196-ac2a-a1621cb984d5",
     "regions": {
      "96971163-2db6-4981-91cf-ab893f6be265": {
       "attrs": {
        "height": 0.8,
        "width": 0.8,
        "x": 0.1,
        "y": 0.1
       },
       "content": {
        "cell": "85008295-2019-4aae-8de4-10440d7b1192",
        "part": "whole"
       },
       "id": "96971163-2db6-4981-91cf-ab893f6be265"
      }
     }
    },
    "3f660f13-9fc3-4dd7-baca-629a5a2cb147": {
     "id": "3f660f13-9fc3-4dd7-baca-629a5a2cb147",
     "prev": "508aae9e-eea9-4d73-a68a-bc66e6b9011d",
     "regions": {
      "b199f51a-d45c-44fd-ac0d-a280790e24ef": {
       "attrs": {
        "height": 0.8,
        "width": 0.8,
        "x": 0.1,
        "y": 0.1
       },
       "content": {
        "cell": "0e839e32-3dfc-4943-8fbd-edd7dbfcebcf",
        "part": "whole"
       },
       "id": "b199f51a-d45c-44fd-ac0d-a280790e24ef"
      }
     }
    },
    "3fbf2742-1eb1-4218-9a71-4a6265a07186": {
     "id": "3fbf2742-1eb1-4218-9a71-4a6265a07186",
     "prev": "33d8ca1f-2a7d-4ca5-8e8b-421b5a016874",
     "regions": {
      "585cf0ab-f9b5-4ea6-bd28-f894d75e25dc": {
       "attrs": {
        "height": 0.8,
        "width": 0.8,
        "x": 0.1,
        "y": 0.1
       },
       "content": {
        "cell": "055e5346-1aa3-48c0-9cbd-d1ddc326fe00",
        "part": "whole"
       },
       "id": "585cf0ab-f9b5-4ea6-bd28-f894d75e25dc"
      }
     }
    },
    "3fc14f55-7c07-4275-9768-f09ba7a712ab": {
     "id": "3fc14f55-7c07-4275-9768-f09ba7a712ab",
     "prev": "ecc2c9e1-d47a-4fce-bd5a-263e42e4da86",
     "regions": {
      "54c17f30-e1f8-4b63-8e55-26654c2e0059": {
       "attrs": {
        "height": 0.8,
        "width": 0.8,
        "x": 0.1,
        "y": 0.1
       },
       "content": {
        "cell": "bbde4683-adc6-4094-891a-5487f24b873e",
        "part": "whole"
       },
       "id": "54c17f30-e1f8-4b63-8e55-26654c2e0059"
      }
     }
    },
    "44f4452c-f3e8-43c3-a8de-eab5abda97a3": {
     "id": "44f4452c-f3e8-43c3-a8de-eab5abda97a3",
     "prev": "bd118997-da16-403d-94d1-51520a42f60d",
     "regions": {
      "78003ad1-ddf2-4f83-bbac-9616b40bef66": {
       "attrs": {
        "height": 0.8,
        "width": 0.8,
        "x": 0.1,
        "y": 0.1
       },
       "content": {
        "cell": "0a7c5d11-13ec-4f52-b222-c6540fcdd67c",
        "part": "whole"
       },
       "id": "78003ad1-ddf2-4f83-bbac-9616b40bef66"
      }
     }
    },
    "4c81a8ea-daa6-40f1-86dd-950ff1439354": {
     "id": "4c81a8ea-daa6-40f1-86dd-950ff1439354",
     "prev": "88b3617c-c7ca-4d60-b84c-a0c5559aa146",
     "regions": {
      "0cca0e01-2042-4b0a-87b4-3ceb1e4badcd": {
       "attrs": {
        "height": 0.8,
        "width": 0.8,
        "x": 0.1,
        "y": 0.1
       },
       "content": {
        "cell": "7b0f8df4-0484-4a23-b5fd-1ff66bd0000d",
        "part": "whole"
       },
       "id": "0cca0e01-2042-4b0a-87b4-3ceb1e4badcd"
      }
     }
    },
    "4c88b7ff-ab7b-4376-82a2-82f8fa5e18bc": {
     "id": "4c88b7ff-ab7b-4376-82a2-82f8fa5e18bc",
     "prev": "28d7e77e-5014-4078-b076-c50af5af532d",
     "regions": {
      "80232afd-a029-4d29-b2e3-d510c3fa2c97": {
       "attrs": {
        "height": 0.8,
        "width": 0.8,
        "x": 0.1,
        "y": 0.1
       },
       "content": {
        "cell": "4db463c7-773f-41ec-84a0-ece179fa37da",
        "part": "whole"
       },
       "id": "80232afd-a029-4d29-b2e3-d510c3fa2c97"
      }
     }
    },
    "4d748b62-46f4-42f4-9138-0a5600e7df2b": {
     "id": "4d748b62-46f4-42f4-9138-0a5600e7df2b",
     "prev": "bb7ec376-77bf-4dec-bee3-170160f1043c",
     "regions": {
      "bf83af59-fc65-42c6-833b-a48fef72ddbe": {
       "attrs": {
        "height": 0.8,
        "width": 0.8,
        "x": 0.1,
        "y": 0.1
       },
       "content": {
        "cell": "3a438349-5641-4df8-bdf1-a86b6ee757ab",
        "part": "source"
       },
       "id": "bf83af59-fc65-42c6-833b-a48fef72ddbe"
      }
     }
    },
    "508aae9e-eea9-4d73-a68a-bc66e6b9011d": {
     "id": "508aae9e-eea9-4d73-a68a-bc66e6b9011d",
     "prev": "ad8381ee-ae0f-4ad1-8eda-8c8e1c4fad07",
     "regions": {
      "9ba5ea72-fa33-48c3-8103-618562d679d9": {
       "attrs": {
        "height": 0.8,
        "width": 0.8,
        "x": 0.1,
        "y": 0.1
       },
       "content": {
        "cell": "1843a7c6-2730-48f9-9b35-7c7b942c6723",
        "part": "whole"
       },
       "id": "9ba5ea72-fa33-48c3-8103-618562d679d9"
      }
     }
    },
    "5124f869-6b03-4be3-81f5-55b8832cd6fb": {
     "id": "5124f869-6b03-4be3-81f5-55b8832cd6fb",
     "prev": "cebab018-f536-404d-9b6f-a7c27a37c8e1",
     "regions": {
      "2f08a369-9275-4ede-a15b-1ff231c7c60b": {
       "attrs": {
        "height": 0.8,
        "width": 0.8,
        "x": 0.1,
        "y": 0.1
       },
       "content": {
        "cell": "d557be83-a9a7-4634-a737-8174d4096889",
        "part": "whole"
       },
       "id": "2f08a369-9275-4ede-a15b-1ff231c7c60b"
      }
     }
    },
    "5aeeb9dc-f16a-4d48-955a-6ef82db4e205": {
     "id": "5aeeb9dc-f16a-4d48-955a-6ef82db4e205",
     "prev": "846cbfc3-d7b5-43c0-8dd0-149eafbcb726",
     "regions": {
      "7dbe7c5a-11f3-4a05-8458-17f35c5793a8": {
       "attrs": {
        "height": 0.8,
        "width": 0.8,
        "x": 0.1,
        "y": 0.1
       },
       "content": {
        "cell": "9d1819cb-4c08-4d0b-8cbe-d9de4ab61a0f",
        "part": "whole"
       },
       "id": "7dbe7c5a-11f3-4a05-8458-17f35c5793a8"
      }
     }
    },
    "5d0618db-2b6f-4acb-8588-a64be45a74ca": {
     "id": "5d0618db-2b6f-4acb-8588-a64be45a74ca",
     "prev": "b0ed01c6-fb32-42f0-8dbd-d71adf885c49",
     "regions": {
      "f63425fb-4081-48ec-a2a1-e26656b6ed44": {
       "attrs": {
        "height": 0.8,
        "width": 0.8,
        "x": 0.1,
        "y": 0.1
       },
       "content": {
        "cell": "d1c9ef9b-e547-4d3b-a3a4-25ca827b9e65",
        "part": "whole"
       },
       "id": "f63425fb-4081-48ec-a2a1-e26656b6ed44"
      }
     }
    },
    "5f5a20e8-9906-4ff6-97a3-890c0a93255b": {
     "id": "5f5a20e8-9906-4ff6-97a3-890c0a93255b",
     "prev": "cbf8b9b5-81a4-414b-8bd6-c356f0d16b82",
     "regions": {
      "4bc6b307-e4bf-4aad-9179-474b213b6400": {
       "attrs": {
        "height": 0.8,
        "width": 0.8,
        "x": 0.1,
        "y": 0.1
       },
       "content": {
        "cell": "cd0ce132-5f43-471c-8641-aa4ab54591a9",
        "part": "whole"
       },
       "id": "4bc6b307-e4bf-4aad-9179-474b213b6400"
      }
     }
    },
    "5f98ec70-b065-4d0f-b9a2-b1a7cfb23af1": {
     "id": "5f98ec70-b065-4d0f-b9a2-b1a7cfb23af1",
     "prev": "5f5a20e8-9906-4ff6-97a3-890c0a93255b",
     "regions": {
      "8f35d40c-5091-48e2-9c94-ac72b3877a1d": {
       "attrs": {
        "height": 0.8,
        "width": 0.8,
        "x": 0.1,
        "y": 0.1
       },
       "content": {
        "cell": "19593268-62aa-4bab-923b-2be26634bedd",
        "part": "whole"
       },
       "id": "8f35d40c-5091-48e2-9c94-ac72b3877a1d"
      }
     }
    },
    "61701e74-efb2-498b-912e-cbd50b9a851e": {
     "id": "61701e74-efb2-498b-912e-cbd50b9a851e",
     "prev": "6dc35822-1f47-4f4e-99c4-f70e5376300f",
     "regions": {
      "5c680c83-711c-4988-b62a-970397a1ec4b": {
       "attrs": {
        "height": 0.8,
        "width": 0.8,
        "x": 0.1,
        "y": 0.1
       },
       "content": {
        "cell": "f417663e-badf-45d3-8f98-0647907657de",
        "part": "whole"
       },
       "id": "5c680c83-711c-4988-b62a-970397a1ec4b"
      }
     }
    },
    "627bd4e9-dc44-4809-aa0a-0b6e4d02a767": {
     "id": "627bd4e9-dc44-4809-aa0a-0b6e4d02a767",
     "prev": "b7898dbe-5f18-4e68-83ba-7edc52e7d955",
     "regions": {
      "8a7f2a7e-0664-4d7c-a7f9-2a15b62ee93d": {
       "attrs": {
        "height": 0.8,
        "width": 0.8,
        "x": 0.1,
        "y": 0.1
       },
       "content": {
        "cell": "80b820b1-7c3b-4c96-a4a6-09b5ef00dacb",
        "part": "whole"
       },
       "id": "8a7f2a7e-0664-4d7c-a7f9-2a15b62ee93d"
      }
     }
    },
    "655c1abb-bbf7-4f69-9665-bf2d14dee3ea": {
     "id": "655c1abb-bbf7-4f69-9665-bf2d14dee3ea",
     "prev": "d628eace-996b-4d17-aeed-5cfcc5d2e979",
     "regions": {
      "cc62baa3-89fd-445e-a145-e55383c2f1a1": {
       "attrs": {
        "height": 0.8,
        "width": 0.8,
        "x": 0.1,
        "y": 0.1
       },
       "content": {
        "cell": "4726f42a-663c-4597-9eb8-ba909dcbff64",
        "part": "whole"
       },
       "id": "cc62baa3-89fd-445e-a145-e55383c2f1a1"
      }
     }
    },
    "6992f9b3-1914-459f-bcfd-b5f41ee1a69f": {
     "id": "6992f9b3-1914-459f-bcfd-b5f41ee1a69f",
     "prev": null,
     "regions": {
      "dde42ffa-f24a-4d08-8e3b-c40e44072904": {
       "attrs": {
        "height": 0.8,
        "width": 0.8,
        "x": 0.1,
        "y": 0.1
       },
       "content": {
        "cell": "b8c6c01b-a265-4aad-8613-6ee62b70c9d3",
        "part": "whole"
       },
       "id": "dde42ffa-f24a-4d08-8e3b-c40e44072904"
      }
     }
    },
    "6dc35822-1f47-4f4e-99c4-f70e5376300f": {
     "id": "6dc35822-1f47-4f4e-99c4-f70e5376300f",
     "prev": "627bd4e9-dc44-4809-aa0a-0b6e4d02a767",
     "regions": {
      "c3f98a72-0bd6-40c4-a3b5-a4d264362136": {
       "attrs": {
        "height": 0.8,
        "width": 0.8,
        "x": 0.1,
        "y": 0.1
       },
       "content": {
        "cell": "a8b4aa95-2ba3-4f09-8f65-ab45831b1108",
        "part": "whole"
       },
       "id": "c3f98a72-0bd6-40c4-a3b5-a4d264362136"
      }
     }
    },
    "6e4d7fd8-9f0a-411d-9416-52f98e519749": {
     "id": "6e4d7fd8-9f0a-411d-9416-52f98e519749",
     "prev": "dd3f23bd-448f-47dd-8ee3-3d5b1db7635b",
     "regions": {}
    },
    "6ecb639b-037d-4196-ac2a-a1621cb984d5": {
     "id": "6ecb639b-037d-4196-ac2a-a1621cb984d5",
     "prev": "8d9daa18-bf6f-48f8-a193-c5426601244b",
     "regions": {
      "c8d85ee2-7811-451c-8529-6bdce8ec6651": {
       "attrs": {
        "height": 0.8,
        "width": 0.8,
        "x": 0.1,
        "y": 0.1
       },
       "content": {
        "cell": "9737d750-04fe-4a91-933c-a799449e427e",
        "part": "whole"
       },
       "id": "c8d85ee2-7811-451c-8529-6bdce8ec6651"
      }
     }
    },
    "73cb7414-e801-4f77-a860-5670a6770f24": {
     "id": "73cb7414-e801-4f77-a860-5670a6770f24",
     "prev": "233f2e7c-f482-4e79-a356-ed9ecede9ae5",
     "regions": {
      "c5133c14-935d-48b6-b0bf-762b2e65c9d5": {
       "attrs": {
        "height": 0.8,
        "width": 0.8,
        "x": 0.1,
        "y": 0.1
       },
       "content": {
        "cell": "edf2075f-e6d6-4b99-88ea-96ba456697df",
        "part": "whole"
       },
       "id": "c5133c14-935d-48b6-b0bf-762b2e65c9d5"
      }
     }
    },
    "846cbfc3-d7b5-43c0-8dd0-149eafbcb726": {
     "id": "846cbfc3-d7b5-43c0-8dd0-149eafbcb726",
     "prev": "4c81a8ea-daa6-40f1-86dd-950ff1439354",
     "regions": {
      "59303c66-2d6f-42f1-8d35-2a9a882fb651": {
       "attrs": {
        "height": 0.8,
        "width": 0.8,
        "x": 0.1,
        "y": 0.1
       },
       "content": {
        "cell": "5fe4edf2-768e-47ef-b5e1-62f64c49ebae",
        "part": "whole"
       },
       "id": "59303c66-2d6f-42f1-8d35-2a9a882fb651"
      }
     }
    },
    "849937ae-4396-4f8f-bb05-c5d7c75bca4a": {
     "id": "849937ae-4396-4f8f-bb05-c5d7c75bca4a",
     "prev": "3fc14f55-7c07-4275-9768-f09ba7a712ab",
     "regions": {
      "abe75389-8a35-4982-b999-00eead65659a": {
       "attrs": {
        "height": 0.8,
        "width": 0.8,
        "x": 0.1,
        "y": 0.1
       },
       "content": {
        "cell": "f9399cc1-faa3-4ec2-a59d-47f60c08759a",
        "part": "whole"
       },
       "id": "abe75389-8a35-4982-b999-00eead65659a"
      }
     }
    },
    "88b3617c-c7ca-4d60-b84c-a0c5559aa146": {
     "id": "88b3617c-c7ca-4d60-b84c-a0c5559aa146",
     "prev": "e2ad3057-f9de-4212-920c-10278da5df00",
     "regions": {
      "835c16fd-4bac-4ed5-91ee-6c3758904032": {
       "attrs": {
        "height": 0.8,
        "width": 0.8,
        "x": 0.1,
        "y": 0.1
       },
       "content": {
        "cell": "51c1d5f6-31c7-4c68-b0b9-0b9d2c074d49",
        "part": "whole"
       },
       "id": "835c16fd-4bac-4ed5-91ee-6c3758904032"
      }
     }
    },
    "8d9daa18-bf6f-48f8-a193-c5426601244b": {
     "id": "8d9daa18-bf6f-48f8-a193-c5426601244b",
     "prev": "5aeeb9dc-f16a-4d48-955a-6ef82db4e205",
     "regions": {
      "78d85b20-9e2a-4b95-b00b-cb5e021efa8d": {
       "attrs": {
        "height": 0.8,
        "width": 0.8,
        "x": 0.1,
        "y": 0.1
       },
       "content": {
        "cell": "cbf6b8fd-fa7c-47ee-a453-ab971310188f",
        "part": "whole"
       },
       "id": "78d85b20-9e2a-4b95-b00b-cb5e021efa8d"
      }
     }
    },
    "922e60da-fa80-452b-8260-7c00ca4bb1f5": {
     "id": "922e60da-fa80-452b-8260-7c00ca4bb1f5",
     "prev": "5d0618db-2b6f-4acb-8588-a64be45a74ca",
     "regions": {
      "ecd7f2b6-3c5a-483d-a0d0-be98ce1b7a58": {
       "attrs": {
        "height": 0.8,
        "width": 0.8,
        "x": 0.1,
        "y": 0.1
       },
       "content": {
        "cell": "50dccd74-72ea-465f-988d-55c9d115dc20",
        "part": "whole"
       },
       "id": "ecd7f2b6-3c5a-483d-a0d0-be98ce1b7a58"
      }
     }
    },
    "9af0f417-6460-4bb7-9de1-c2e3354c72db": {
     "id": "9af0f417-6460-4bb7-9de1-c2e3354c72db",
     "prev": "eef34a4c-a48f-4a2c-baec-2f5a43ce4d65",
     "regions": {
      "335f93b0-f268-4fe8-8c7b-00d4ae2c4128": {
       "attrs": {
        "height": 0.8,
        "width": 0.8,
        "x": 0.1,
        "y": 0.1
       },
       "content": {
        "cell": "450b0475-04e8-4340-a32f-79408ca0a017",
        "part": "whole"
       },
       "id": "335f93b0-f268-4fe8-8c7b-00d4ae2c4128"
      }
     }
    },
    "a019c2ff-04f0-4074-b3ff-93d32e3fa4a6": {
     "id": "a019c2ff-04f0-4074-b3ff-93d32e3fa4a6",
     "prev": "655c1abb-bbf7-4f69-9665-bf2d14dee3ea",
     "regions": {
      "bb63487d-d9e2-4877-bacb-790a24948247": {
       "attrs": {
        "height": 0.8,
        "width": 0.8,
        "x": 0.1,
        "y": 0.1
       },
       "content": {
        "cell": "4ba39fe8-df1e-4bd5-8154-158d99afd6a5",
        "part": "whole"
       },
       "id": "bb63487d-d9e2-4877-bacb-790a24948247"
      }
     }
    },
    "a7d10056-58bb-4c47-a55a-1afbd75aec25": {
     "id": "a7d10056-58bb-4c47-a55a-1afbd75aec25",
     "prev": "2758f2b8-e75c-4987-8094-083a882384f6",
     "regions": {
      "cd41807b-7dbe-44c3-bbed-ddf908401a15": {
       "attrs": {
        "height": 0.8,
        "width": 0.8,
        "x": 0.1,
        "y": 0.1
       },
       "content": {
        "cell": "c1a4afe7-e788-495d-a691-f433a82e0e11",
        "part": "whole"
       },
       "id": "cd41807b-7dbe-44c3-bbed-ddf908401a15"
      }
     }
    },
    "ad8381ee-ae0f-4ad1-8eda-8c8e1c4fad07": {
     "id": "ad8381ee-ae0f-4ad1-8eda-8c8e1c4fad07",
     "prev": "1d0d6a75-39e7-4be5-ae4e-4152e243553a",
     "regions": {
      "7a58d25c-d8d4-4c0e-8880-fa9269ad398e": {
       "attrs": {
        "height": 0.8,
        "width": 0.8,
        "x": 0.1,
        "y": 0.1
       },
       "content": {
        "cell": "e07e5a46-5f1d-49ef-9ae7-20b944efd9fb",
        "part": "whole"
       },
       "id": "7a58d25c-d8d4-4c0e-8880-fa9269ad398e"
      }
     }
    },
    "b0ed01c6-fb32-42f0-8dbd-d71adf885c49": {
     "id": "b0ed01c6-fb32-42f0-8dbd-d71adf885c49",
     "prev": "73cb7414-e801-4f77-a860-5670a6770f24",
     "regions": {
      "bda90826-244a-46bc-b055-ce19dd08a5b9": {
       "attrs": {
        "height": 0.8,
        "width": 0.8,
        "x": 0.1,
        "y": 0.1
       },
       "content": {
        "cell": "3f5c8aae-0101-4786-a2e0-1d89997a2f8e",
        "part": "whole"
       },
       "id": "bda90826-244a-46bc-b055-ce19dd08a5b9"
      }
     }
    },
    "b7898dbe-5f18-4e68-83ba-7edc52e7d955": {
     "id": "b7898dbe-5f18-4e68-83ba-7edc52e7d955",
     "prev": "4d748b62-46f4-42f4-9138-0a5600e7df2b",
     "regions": {
      "3ebf500f-696d-44c9-8820-406bb7fc848b": {
       "attrs": {
        "height": 0.8,
        "width": 0.8,
        "x": 0.1,
        "y": 0.1
       },
       "content": {
        "cell": "af5081b7-3d9a-47f5-8dc1-69fcc57821c0",
        "part": "whole"
       },
       "id": "3ebf500f-696d-44c9-8820-406bb7fc848b"
      }
     }
    },
    "bab5a454-f4ac-43c3-b83d-c29e8f36f9f8": {
     "id": "bab5a454-f4ac-43c3-b83d-c29e8f36f9f8",
     "prev": "e5c3df08-d8a0-4ae2-9617-e744190a7c35",
     "regions": {
      "3807a6b6-c377-4c47-878f-f4c074ac429b": {
       "attrs": {
        "height": 0.8,
        "width": 0.8,
        "x": 0.1,
        "y": 0.1
       },
       "content": {
        "cell": "35cec887-bf5b-4bcd-9482-55523b6c1de6",
        "part": "whole"
       },
       "id": "3807a6b6-c377-4c47-878f-f4c074ac429b"
      }
     }
    },
    "bb7ec376-77bf-4dec-bee3-170160f1043c": {
     "id": "bb7ec376-77bf-4dec-bee3-170160f1043c",
     "prev": "f630add5-f257-42b1-882b-680cdb6a54df",
     "regions": {
      "f3bb3abf-1f11-408e-9f75-6b286beb9dd2": {
       "attrs": {
        "height": 1,
        "width": 1,
        "x": 0,
        "y": 0
       },
       "id": "f3bb3abf-1f11-408e-9f75-6b286beb9dd2"
      }
     }
    },
    "bd118997-da16-403d-94d1-51520a42f60d": {
     "id": "bd118997-da16-403d-94d1-51520a42f60d",
     "prev": "5f98ec70-b065-4d0f-b9a2-b1a7cfb23af1",
     "regions": {
      "76da41ed-2ac7-41ff-a986-c1bdbba6e578": {
       "attrs": {
        "height": 0.8,
        "width": 0.8,
        "x": 0.1,
        "y": 0.1
       },
       "content": {
        "cell": "0f8ff272-e0f6-417e-8e2e-650964663d0f",
        "part": "whole"
       },
       "id": "76da41ed-2ac7-41ff-a986-c1bdbba6e578"
      }
     }
    },
    "caaef2f2-6088-49b3-b591-d04cfb3e544c": {
     "id": "caaef2f2-6088-49b3-b591-d04cfb3e544c",
     "prev": "1987126a-5ef5-412e-9928-9c8d08045ba8",
     "regions": {
      "a61b242d-cf47-4244-961c-0bf3dc0efe72": {
       "attrs": {
        "height": 0.8,
        "width": 0.8,
        "x": 0.1,
        "y": 0.1
       },
       "content": {
        "cell": "4dfd2936-1a71-4f33-b4df-8f271e6caae4",
        "part": "whole"
       },
       "id": "a61b242d-cf47-4244-961c-0bf3dc0efe72"
      }
     }
    },
    "cad25093-0c05-4bbc-9398-d42b2a4f98a1": {
     "id": "cad25093-0c05-4bbc-9398-d42b2a4f98a1",
     "prev": "ccbf2c4f-d808-4eff-a93c-d460da364a2d",
     "regions": {
      "cc333814-9223-4442-975c-91474790d6e2": {
       "attrs": {
        "height": 0.8,
        "width": 0.8,
        "x": 0.1,
        "y": 0.1
       },
       "content": {
        "cell": "d9a2935a-ef2a-4279-a5a6-385bb10917d9",
        "part": "whole"
       },
       "id": "cc333814-9223-4442-975c-91474790d6e2"
      }
     }
    },
    "cbf8b9b5-81a4-414b-8bd6-c356f0d16b82": {
     "id": "cbf8b9b5-81a4-414b-8bd6-c356f0d16b82",
     "prev": "3fbf2742-1eb1-4218-9a71-4a6265a07186",
     "regions": {
      "be48b302-4285-4bd7-abdd-827f8e3cfe3f": {
       "attrs": {
        "height": 0.8,
        "width": 0.8,
        "x": 0.1,
        "y": 0.1
       },
       "content": {
        "cell": "600de3c9-794b-49c8-87b8-225a1c1c9851",
        "part": "whole"
       },
       "id": "be48b302-4285-4bd7-abdd-827f8e3cfe3f"
      }
     }
    },
    "ccbf2c4f-d808-4eff-a93c-d460da364a2d": {
     "id": "ccbf2c4f-d808-4eff-a93c-d460da364a2d",
     "prev": "caaef2f2-6088-49b3-b591-d04cfb3e544c",
     "regions": {
      "912ea1bf-bcdb-4f21-af48-a348ce16acb9": {
       "attrs": {
        "height": 0.8,
        "width": 0.8,
        "x": 0.1,
        "y": 0.1
       },
       "content": {
        "cell": "a2b8e702-588b-4e77-80b2-5a3848fcf2c0",
        "part": "whole"
       },
       "id": "912ea1bf-bcdb-4f21-af48-a348ce16acb9"
      }
     }
    },
    "cebab018-f536-404d-9b6f-a7c27a37c8e1": {
     "id": "cebab018-f536-404d-9b6f-a7c27a37c8e1",
     "prev": "e2dc3e5b-76e4-4f27-8a5e-8093b1c578ea",
     "regions": {
      "4b449874-e61d-46e3-8877-937ada7063c1": {
       "attrs": {
        "height": 0.8,
        "width": 0.8,
        "x": 0.1,
        "y": 0.1
       },
       "content": {
        "cell": "50715556-da1c-4494-ad0a-02a2ab103710",
        "part": "whole"
       },
       "id": "4b449874-e61d-46e3-8877-937ada7063c1"
      }
     }
    },
    "d13271a9-64b9-4c68-9bbe-90695af58672": {
     "id": "d13271a9-64b9-4c68-9bbe-90695af58672",
     "prev": "5124f869-6b03-4be3-81f5-55b8832cd6fb",
     "regions": {
      "58f95339-2e40-46d0-9cfc-eeb4542895d9": {
       "attrs": {
        "height": 0.8,
        "width": 0.8,
        "x": 0.1,
        "y": 0.1
       },
       "content": {
        "cell": "1865afa3-9b32-4bb5-83d0-ddc9c6f709a0",
        "part": "whole"
       },
       "id": "58f95339-2e40-46d0-9cfc-eeb4542895d9"
      }
     }
    },
    "d628eace-996b-4d17-aeed-5cfcc5d2e979": {
     "id": "d628eace-996b-4d17-aeed-5cfcc5d2e979",
     "layout": "grid",
     "prev": "cad25093-0c05-4bbc-9398-d42b2a4f98a1",
     "regions": {}
    },
    "dd3f23bd-448f-47dd-8ee3-3d5b1db7635b": {
     "id": "dd3f23bd-448f-47dd-8ee3-3d5b1db7635b",
     "prev": "9af0f417-6460-4bb7-9de1-c2e3354c72db",
     "regions": {
      "0032ae55-ccab-4a39-b27a-502f04a0fc6e": {
       "attrs": {
        "height": 0.8,
        "width": 0.8,
        "x": 0.1,
        "y": 0.1
       },
       "content": {
        "cell": "94a8239a-e41d-4c24-ae8d-ea3e2132a391",
        "part": "whole"
       },
       "id": "0032ae55-ccab-4a39-b27a-502f04a0fc6e"
      }
     }
    },
    "df19040a-9a49-430c-ab6a-5f81e101cb75": {
     "id": "df19040a-9a49-430c-ab6a-5f81e101cb75",
     "prev": "61701e74-efb2-498b-912e-cbd50b9a851e",
     "regions": {
      "4f401f69-65ae-46c0-b165-c3b664cece31": {
       "attrs": {
        "height": 0.8,
        "width": 0.8,
        "x": 0.1,
        "y": 0.1
       },
       "content": {
        "cell": "f3de275a-ac50-402b-a9e9-fb6f14aef20a",
        "part": "whole"
       },
       "id": "4f401f69-65ae-46c0-b165-c3b664cece31"
      }
     }
    },
    "e2ad3057-f9de-4212-920c-10278da5df00": {
     "id": "e2ad3057-f9de-4212-920c-10278da5df00",
     "prev": "df19040a-9a49-430c-ab6a-5f81e101cb75",
     "regions": {
      "76aa6de2-e5e4-45f7-a2f8-5e51b92fc31d": {
       "attrs": {
        "height": 0.8,
        "width": 0.8,
        "x": 0.1,
        "y": 0.1
       },
       "content": {
        "cell": "b1c83af0-e6ca-42cc-a0ca-50276ebe4f67",
        "part": "whole"
       },
       "id": "76aa6de2-e5e4-45f7-a2f8-5e51b92fc31d"
      }
     }
    },
    "e2dc3e5b-76e4-4f27-8a5e-8093b1c578ea": {
     "id": "e2dc3e5b-76e4-4f27-8a5e-8093b1c578ea",
     "prev": "4c88b7ff-ab7b-4376-82a2-82f8fa5e18bc",
     "regions": {
      "407e6681-74ca-4d17-901b-a8b2f39d28c7": {
       "attrs": {
        "height": 0.8,
        "width": 0.8,
        "x": 0.1,
        "y": 0.1
       },
       "content": {
        "cell": "f769cb44-ca59-43ad-a0b6-29e394f2557e",
        "part": "whole"
       },
       "id": "407e6681-74ca-4d17-901b-a8b2f39d28c7"
      }
     }
    },
    "e5c3df08-d8a0-4ae2-9617-e744190a7c35": {
     "id": "e5c3df08-d8a0-4ae2-9617-e744190a7c35",
     "prev": "3f660f13-9fc3-4dd7-baca-629a5a2cb147",
     "regions": {
      "47d173ad-cd7d-4931-87cb-eb33bd704e54": {
       "attrs": {
        "height": 0.8,
        "width": 0.8,
        "x": 0.1,
        "y": 0.1
       },
       "content": {
        "cell": "39a5aee6-7760-4a9e-a5e3-dee77330a042",
        "part": "whole"
       },
       "id": "47d173ad-cd7d-4931-87cb-eb33bd704e54"
      }
     }
    },
    "ecc2c9e1-d47a-4fce-bd5a-263e42e4da86": {
     "id": "ecc2c9e1-d47a-4fce-bd5a-263e42e4da86",
     "prev": "922e60da-fa80-452b-8260-7c00ca4bb1f5",
     "regions": {
      "af52f853-6f2a-4c63-9451-2d6c3805ad7d": {
       "attrs": {
        "height": 0.8,
        "width": 0.8,
        "x": 0.1,
        "y": 0.1
       },
       "content": {
        "cell": "d9befd83-b685-483d-b30d-2a3847948ca5",
        "part": "whole"
       },
       "id": "af52f853-6f2a-4c63-9451-2d6c3805ad7d"
      }
     }
    },
    "eef34a4c-a48f-4a2c-baec-2f5a43ce4d65": {
     "id": "eef34a4c-a48f-4a2c-baec-2f5a43ce4d65",
     "prev": "6992f9b3-1914-459f-bcfd-b5f41ee1a69f",
     "regions": {
      "0c593a45-0474-4ea8-a05d-a74d3f5648ac": {
       "attrs": {
        "height": 0.8,
        "width": 0.45,
        "x": 0.05,
        "y": 0.1
       },
       "id": "0c593a45-0474-4ea8-a05d-a74d3f5648ac"
      },
      "db851132-184c-4809-b880-6acad76c89e5": {
       "attrs": {
        "height": 0.8,
        "width": 0.45,
        "x": 0.5,
        "y": 0.1
       },
       "id": "db851132-184c-4809-b880-6acad76c89e5"
      }
     }
    },
    "f630add5-f257-42b1-882b-680cdb6a54df": {
     "id": "f630add5-f257-42b1-882b-680cdb6a54df",
     "prev": "849937ae-4396-4f8f-bb05-c5d7c75bca4a",
     "regions": {
      "33244afb-06ee-4315-b1fa-0cf05896758b": {
       "attrs": {
        "height": 0.8,
        "width": 0.8,
        "x": 0.1,
        "y": 0.1
       },
       "content": {
        "cell": "ffa06d72-354c-45f8-95d8-95d411e89091",
        "part": "whole"
       },
       "id": "33244afb-06ee-4315-b1fa-0cf05896758b"
      }
     }
    }
   },
   "themes": {}
  }
 },
 "nbformat": 4,
 "nbformat_minor": 0
}
